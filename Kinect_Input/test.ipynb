{
 "cells": [
  {
   "cell_type": "code",
   "execution_count": 3,
   "metadata": {},
   "outputs": [
    {
     "name": "stdout",
     "output_type": "stream",
     "text": [
      "Frames saved. Exiting...\n"
     ]
    }
   ],
   "source": [
    "import numpy as np\n",
    "import cv2\n",
    "from pykinect2 import PyKinectV2\n",
    "from pykinect2.PyKinectV2 import *\n",
    "from pykinect2 import PyKinectRuntime\n",
    "\n",
    "# Initialize the Kinect runtime for both color and depth frames\n",
    "kinect = PyKinectRuntime.PyKinectRuntime(PyKinectV2.FrameSourceTypes_Depth | PyKinectV2.FrameSourceTypes_Color)\n",
    "\n",
    "while True:\n",
    "    # Check if a new color and depth frame are available\n",
    "    if kinect.has_new_color_frame() and kinect.has_new_depth_frame():\n",
    "        # Access the color frame data\n",
    "        color_frame = kinect.get_last_color_frame()\n",
    "        color_image = color_frame.reshape((1080, 1920, 4))  # RGBA format\n",
    "        \n",
    "        # Convert to RGB\n",
    "        color_image = cv2.cvtColor(color_image, cv2.COLOR_RGBA2RGB)\n",
    "\n",
    "        # Access the depth frame data\n",
    "        depth_frame = kinect.get_last_depth_frame()\n",
    "        \n",
    "        # Convert the depth frame to a numpy array and reshape it\n",
    "        depth_array = np.array(depth_frame).astype(np.uint16)\n",
    "        depth_image = depth_array.reshape((kinect.depth_frame_desc.Height, kinect.depth_frame_desc.Width))\n",
    "        \n",
    "        # Map the depth values to a grayscale image for visualization\n",
    "        depth_colormap = cv2.convertScaleAbs(depth_image, alpha=0.03)\n",
    "\n",
    "        # Display the images using OpenCV\n",
    "        cv2.imshow('Color Image', color_image)\n",
    "        cv2.imshow('Depth Image', depth_colormap)\n",
    "\n",
    "        # Save one frame of each type\n",
    "        cv2.imwrite('color_image.jpg', color_image)\n",
    "        cv2.imwrite('depth_image.jpg', depth_colormap)\n",
    "\n",
    "        print(\"Frames saved. Exiting...\")\n",
    "        break  # Remove or modify this if you want to capture more than one frame\n",
    "\n",
    "    # Break loop on ESC key press\n",
    "    if cv2.waitKey(1) == 27:\n",
    "        break\n",
    "\n",
    "# Release resources\n",
    "kinect.close()\n",
    "cv2.destroyAllWindows()\n"
   ]
  }
 ],
 "metadata": {
  "kernelspec": {
   "display_name": "rss",
   "language": "python",
   "name": "python3"
  },
  "language_info": {
   "codemirror_mode": {
    "name": "ipython",
    "version": 3
   },
   "file_extension": ".py",
   "mimetype": "text/x-python",
   "name": "python",
   "nbconvert_exporter": "python",
   "pygments_lexer": "ipython3",
   "version": "3.6.13"
  }
 },
 "nbformat": 4,
 "nbformat_minor": 2
}
